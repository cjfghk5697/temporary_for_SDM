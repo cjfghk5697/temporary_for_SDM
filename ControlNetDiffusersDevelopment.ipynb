{
  "nbformat": 4,
  "nbformat_minor": 0,
  "metadata": {
    "colab": {
      "private_outputs": true,
      "provenance": [],
      "machine_shape": "hm",
      "collapsed_sections": [
        "v7QTIQdgMV_y"
      ],
      "include_colab_link": true
    },
    "kernelspec": {
      "name": "python3",
      "display_name": "Python 3"
    },
    "language_info": {
      "name": "python"
    },
    "accelerator": "GPU",
    "gpuClass": "standard"
  },
  "cells": [
    {
      "cell_type": "markdown",
      "metadata": {
        "id": "view-in-github",
        "colab_type": "text"
      },
      "source": [
        "<a href=\"https://colab.research.google.com/github/cjfghk5697/temporary_for_SDM/blob/main/ControlNetDiffusersDevelopment.ipynb\" target=\"_parent\"><img src=\"https://colab.research.google.com/assets/colab-badge.svg\" alt=\"Open In Colab\"/></a>"
      ]
    },
    {
      "cell_type": "markdown",
      "source": [
        "## Install Diffusers in development version and dependencies.\n",
        "and import libs"
      ],
      "metadata": {
        "id": "hnugbDmHBid-"
      }
    },
    {
      "cell_type": "code",
      "execution_count": null,
      "metadata": {
        "id": "SHy4vGktxP6F"
      },
      "outputs": [],
      "source": [
        "! pip install \"git+https://github.com/takuma104/diffusers.git@controlnet\" # Diffusers in development version \n",
        "! pip install transformers accelerate safetensors xformers opencv-python timm==0.4.12 fairscale==0.4.4"
      ]
    },
    {
      "cell_type": "code",
      "source": [
        "# clone BLIP \n",
        "import sys\n",
        "if 'google.colab' in sys.modules:\n",
        "    print('Running in Colab.')\n",
        "    !pip install pytorch_pretrained_bert --upgrade\n",
        "    !git clone https://github.com/salesforce/BLIP\n",
        "    %cd BLIP"
      ],
      "metadata": {
        "id": "HuNbs0eNUJEd"
      },
      "execution_count": null,
      "outputs": []
    },
    {
      "cell_type": "code",
      "source": [
        "from diffusers import StableDiffusionControlNetPipeline, EulerAncestralDiscreteScheduler\n",
        "from diffusers.utils import load_image\n",
        "import torch\n",
        "import cv2\n",
        "import numpy as np\n",
        "\n",
        "from models.blip import blip_decoder\n",
        "from torchvision import transforms\n",
        "from PIL import Image"
      ],
      "metadata": {
        "id": "VTxt5Dmg9E0t"
      },
      "execution_count": null,
      "outputs": []
    },
    {
      "cell_type": "markdown",
      "source": [
        "## Common "
      ],
      "metadata": {
        "id": "8HjYAvVCL-Ph"
      }
    },
    {
      "cell_type": "code",
      "source": [
        "euler_scheduler = EulerAncestralDiscreteScheduler.from_config(\"takuma104/control_sd15_canny\", subfolder=\"scheduler\")"
      ],
      "metadata": {
        "id": "MjcNfWrD_-ss"
      },
      "execution_count": null,
      "outputs": []
    },
    {
      "cell_type": "markdown",
      "source": [
        "## Canny Edge model"
      ],
      "metadata": {
        "id": "w6hYYszZBqzf"
      }
    },
    {
      "cell_type": "code",
      "source": [
        "pipe_canny = StableDiffusionControlNetPipeline.from_pretrained(\"takuma104/control_sd15_canny\", torch_dtype=torch.float16).to(\"cuda\")\n",
        "pipe_canny.scheduler = euler_scheduler\n",
        "pipe_canny.enable_xformers_memory_efficient_attention()\n"
      ],
      "metadata": {
        "id": "PTqP_XCN9HV0"
      },
      "execution_count": null,
      "outputs": []
    },
    {
      "cell_type": "markdown",
      "source": [
        "#### Control by preprocessed image"
      ],
      "metadata": {
        "id": "KmqYshFNMKfx"
      }
    },
    {
      "cell_type": "code",
      "source": [
        "canny_edged_image = load_image(\"https://huggingface.co/takuma104/controlnet_dev/resolve/main/vermeer_canny_edged.png\")\n",
        "canny_edged_image"
      ],
      "metadata": {
        "id": "vfMEVnkhxxfZ"
      },
      "execution_count": null,
      "outputs": []
    },
    {
      "cell_type": "code",
      "source": [
        "generator = torch.Generator(device=\"cpu\").manual_seed(3)\n",
        "image = pipe_canny(prompt=\"best quality, extremely detailed\", \n",
        "                   negative_prompt=\"monochrome, lowres, bad anatomy, worst quality, low quality\",\n",
        "                   controlnet_hint=canny_edged_image,\n",
        "                   num_inference_steps=30, \n",
        "                   generator=generator).images[0]\n",
        "image"
      ],
      "metadata": {
        "id": "joNSeXop_KjN"
      },
      "execution_count": null,
      "outputs": []
    },
    {
      "cell_type": "markdown",
      "source": [
        "#### Control by generated image"
      ],
      "metadata": {
        "id": "v7QTIQdgMV_y"
      }
    },
    {
      "cell_type": "code",
      "source": [
        "original_image = load_image(\"https://huggingface.co/datasets/diffusers/test-arrays/resolve/main/stable_diffusion_imgvar/input_image_vermeer.png\")\n",
        "\n",
        "control = cv2.Canny(np.array(original_image), threshold1=100, threshold2=200)\n",
        "#control = cv2.cvtColor(control, cv2.COLOR_GRAY2RGB)\n",
        "Image.fromarray(control)"
      ],
      "metadata": {
        "id": "2TuyVDb2MVsK"
      },
      "execution_count": null,
      "outputs": []
    },
    {
      "cell_type": "code",
      "source": [
        "control.shape"
      ],
      "metadata": {
        "id": "-YEeqGqcQRNe"
      },
      "execution_count": null,
      "outputs": []
    },
    {
      "cell_type": "code",
      "source": [
        "generator = torch.Generator(device=\"cpu\").manual_seed(3)\n",
        "image = pipe_canny(prompt=\"best quality, extremely detailed\", \n",
        "                   negative_prompt=\"monochrome, lowres, bad anatomy, worst quality, low quality\",\n",
        "                   controlnet_hint=control,\n",
        "                   num_inference_steps=30, \n",
        "                   generator=generator).images[0]\n",
        "image"
      ],
      "metadata": {
        "id": "C9eA6ia4hWJR"
      },
      "execution_count": null,
      "outputs": []
    },
    {
      "cell_type": "markdown",
      "source": [
        "#### Automatic Prompt"
      ],
      "metadata": {
        "id": "BZRx8Yw_hP1o"
      }
    },
    {
      "cell_type": "markdown",
      "source": [
        "**Generating Automatic Prompt**"
      ],
      "metadata": {
        "id": "ayt2jtp3gY5v"
      }
    },
    {
      "cell_type": "code",
      "source": [
        "image_size = 384\n",
        "original_image = load_image(\"https://huggingface.co/datasets/diffusers/test-arrays/resolve/main/stable_diffusion_imgvar/input_image_vermeer.png\")\n",
        "\n",
        "model_url = 'https://storage.googleapis.com/sfr-vision-language-research/BLIP/models/model_base_capfilt_large.pth'\n",
        "    \n",
        "model = blip_decoder(pretrained=model_url, image_size=image_size, vit='base')\n",
        "model.eval()\n",
        "model = model.to('cuda')\n",
        "transform = transforms.Compose([\n",
        "        transforms.Resize((image_size,image_size),interpolation=transforms.functional.InterpolationMode.BICUBIC),\n",
        "        transforms.ToTensor(),\n",
        "        transforms.Normalize((0.48145466, 0.4578275, 0.40821073), (0.26862954, 0.26130258, 0.27577711))\n",
        "  ]) \n",
        "original_image=transform(original_image.resize((image_size,image_size))).unsqueeze(0).to('cuda')  \n",
        "with torch.no_grad():\n",
        "    # beam search\n",
        "    caption = model.generate(original_image, sample=False, num_beams=3, max_length=20, min_length=5) \n",
        "    # nucleus sampling\n",
        "    # caption = model.generate(image, sample=True, top_p=0.9, max_length=20, min_length=5) \n",
        "    print('caption: '+caption[0])"
      ],
      "metadata": {
        "id": "wx6boMoOWzbk"
      },
      "execution_count": null,
      "outputs": []
    },
    {
      "cell_type": "markdown",
      "source": [
        "**Test Automatic Prompt**"
      ],
      "metadata": {
        "id": "SwtlFsbXhLS5"
      }
    },
    {
      "cell_type": "code",
      "source": [
        "generator = torch.Generator(device=\"cpu\").manual_seed(3)\n",
        "image = pipe_canny(prompt=caption[0], \n",
        "                   negative_prompt=\"monochrome, lowres, bad anatomy, worst quality, low quality\",\n",
        "                   controlnet_hint=control,\n",
        "                   num_inference_steps=30, \n",
        "                   generator=generator).images[0]\n",
        "image"
      ],
      "metadata": {
        "id": "3-BogkxdP74V"
      },
      "execution_count": null,
      "outputs": []
    },
    {
      "cell_type": "markdown",
      "source": [
        "## OpenPose model"
      ],
      "metadata": {
        "id": "ON-MLTZCBcf9"
      }
    },
    {
      "cell_type": "code",
      "source": [
        "pose_image = load_image('https://huggingface.co/takuma104/controlnet_dev/resolve/main/pose.png')\n",
        "pose_image"
      ],
      "metadata": {
        "id": "WkrgAzpSyfHj"
      },
      "execution_count": null,
      "outputs": []
    },
    {
      "cell_type": "code",
      "source": [
        "pipe_op = StableDiffusionControlNetPipeline.from_pretrained(\"takuma104/control_sd15_openpose\", torch_dtype=torch.float16).to(\"cuda\")\n",
        "pipe_op.scheduler = euler_scheduler\n",
        "pipe_op.enable_xformers_memory_efficient_attention()\n"
      ],
      "metadata": {
        "id": "uxNpbFh79BXw"
      },
      "execution_count": null,
      "outputs": []
    },
    {
      "cell_type": "code",
      "source": [
        "generator = torch.Generator(device=\"cpu\").manual_seed(0)\n",
        "image = pipe_op(prompt=\"best quality, extremely detailed, football, a boy\", \n",
        "                negative_prompt=\"lowres, bad anatomy, worst quality, low quality\",\n",
        "                controlnet_hint=pose_image, \n",
        "                generator=generator,\n",
        "                num_inference_steps=30).images[0]\n",
        "image"
      ],
      "metadata": {
        "id": "B5nYufyO9dzJ"
      },
      "execution_count": null,
      "outputs": []
    }
  ]
}